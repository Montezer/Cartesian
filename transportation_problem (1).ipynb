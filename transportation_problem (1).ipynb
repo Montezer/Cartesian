{
 "cells": [
  {
   "cell_type": "code",
   "execution_count": 0,
   "metadata": {
    "colab": {},
    "colab_type": "code",
    "id": "ItbdIasfX0c-"
   },
   "outputs": [],
   "source": [
    "import pandas as pd\n",
    "import pulp as p \n",
    "import itertools as it"
   ]
  },
  {
   "cell_type": "code",
   "execution_count": 0,
   "metadata": {
    "colab": {},
    "colab_type": "code",
    "id": "1G7MMXz1-UWL"
   },
   "outputs": [],
   "source": [
    "\n",
    "def get_paths(origin_node, target_node, node_to_nodes):\n",
    "    return simple_paths(target_node,\n",
    "                        [origin_node],\n",
    "                        set(origin_node),\n",
    "                        node_to_nodes,\n",
    "                        list())\n",
    "  \n",
    "def simple_paths(target_node,\n",
    "                 current_path,\n",
    "                 used_nodes,\n",
    "                 node_to_nodes,\n",
    "                 answer_paths):\n",
    "    last_node = current_path[-1]\n",
    "    if last_node == target_node:\n",
    "        answer_paths.append(list(current_path))\n",
    "    else:\n",
    "        for neighbor in node_to_nodes[last_node]:\n",
    "            if neighbor not in used_nodes:\n",
    "                current_path.append(neighbor)\n",
    "                used_nodes.add(neighbor)\n",
    "                simple_paths(target_node,\n",
    "                             current_path,\n",
    "                             used_nodes,\n",
    "                             node_to_nodes,\n",
    "                             answer_paths)\n",
    "                used_nodes.remove(neighbor)\n",
    "                current_path.pop()\n",
    "    return answer_paths"
   ]
  },
  {
   "cell_type": "code",
   "execution_count": 28,
   "metadata": {
    "colab": {
     "base_uri": "https://localhost:8080/",
     "height": 235
    },
    "colab_type": "code",
    "id": "Xj4Uc7Ni_EK6",
    "outputId": "133bddc4-2545-4a8c-f6f6-a06eb6a95f49"
   },
   "outputs": [
    {
     "ename": "TypeError",
     "evalue": "ignored",
     "output_type": "error",
     "traceback": [
      "\u001b[0;31m---------------------------------------------------------------------------\u001b[0m",
      "\u001b[0;31mTypeError\u001b[0m                                 Traceback (most recent call last)",
      "\u001b[0;32m<ipython-input-28-a3f9f68eb114>\u001b[0m in \u001b[0;36m<module>\u001b[0;34m()\u001b[0m\n\u001b[1;32m     11\u001b[0m \u001b[0mnew_paths\u001b[0m \u001b[0;34m=\u001b[0m \u001b[0mlist\u001b[0m\u001b[0;34m(\u001b[0m\u001b[0;34m)\u001b[0m\u001b[0;34m\u001b[0m\u001b[0;34m\u001b[0m\u001b[0m\n\u001b[1;32m     12\u001b[0m \u001b[0;32mfor\u001b[0m \u001b[0mi\u001b[0m \u001b[0;32min\u001b[0m \u001b[0mpaths\u001b[0m\u001b[0;34m:\u001b[0m\u001b[0;34m\u001b[0m\u001b[0;34m\u001b[0m\u001b[0m\n\u001b[0;32m---> 13\u001b[0;31m   \u001b[0;32mif\u001b[0m \u001b[0mlen\u001b[0m\u001b[0;34m(\u001b[0m\u001b[0mp\u001b[0m\u001b[0;34m)\u001b[0m\u001b[0;34m==\u001b[0m\u001b[0mlen\u001b[0m\u001b[0;34m(\u001b[0m\u001b[0mset\u001b[0m\u001b[0;34m(\u001b[0m\u001b[0mi\u001b[0m\u001b[0;34m)\u001b[0m\u001b[0;34m)\u001b[0m\u001b[0;34m:\u001b[0m\u001b[0;34m\u001b[0m\u001b[0;34m\u001b[0m\u001b[0m\n\u001b[0m\u001b[1;32m     14\u001b[0m     \u001b[0mnew_paths\u001b[0m\u001b[0;34m.\u001b[0m\u001b[0mappend\u001b[0m\u001b[0;34m(\u001b[0m\u001b[0mi\u001b[0m\u001b[0;34m)\u001b[0m\u001b[0;34m\u001b[0m\u001b[0;34m\u001b[0m\u001b[0m\n\u001b[1;32m     15\u001b[0m \u001b[0;34m\u001b[0m\u001b[0m\n",
      "\u001b[0;31mTypeError\u001b[0m: object of type 'module' has no len()"
     ]
    }
   ],
   "source": [
    "\n",
    "node_to_nodes = dict()\n",
    "node_to_nodes['C1'] = ['C2', 'C3']\n",
    "node_to_nodes['C2'] = ['C1', 'C3', 'C4']\n",
    "node_to_nodes['C3'] = ['C1', 'C2', 'C4', 'C5']\n",
    "node_to_nodes['C4'] = ['C2', 'C3', 'C5', 'C6']\n",
    "node_to_nodes['C5'] = ['C3', 'C4', 'C6']\n",
    "node_to_nodes['C6'] = ['C4', 'C5']\n",
    "paths = get_paths('C1', 'C6', node_to_nodes)\n",
    "\n",
    "new_paths = list()\n",
    "for i in paths:\n",
    "  if len(p)==len(set(i)):\n",
    "    new_paths.append(i)\n",
    "\n",
    "for i in new_paths:\n",
    "  print(i)"
   ]
  },
  {
   "cell_type": "code",
   "execution_count": 0,
   "metadata": {
    "colab": {},
    "colab_type": "code",
    "id": "l2sl7HuM_sz9"
   },
   "outputs": [],
   "source": [
    "logistic_costs = dict()\n",
    "logistic_costs['12'] = [6, 7]\n",
    "logistic_costs['13'] = [3, 2]\n",
    "logistic_costs['23'] = [2, 3]\n",
    "logistic_costs['24'] = [5, 8]\n",
    "logistic_costs['34'] = [3, 8]\n",
    "logistic_costs['35'] = [4, 3]\n",
    "logistic_costs['45'] = [4, 5]\n",
    "logistic_costs['46'] = [6, 3]\n",
    "logistic_costs['56'] = [5, 9]"
   ]
  },
  {
   "cell_type": "code",
   "execution_count": 30,
   "metadata": {
    "colab": {
     "base_uri": "https://localhost:8080/",
     "height": 355
    },
    "colab_type": "code",
    "id": "OndCtbufYeEz",
    "outputId": "37cdacdb-1f07-4604-e246-18178b9f2d5e"
   },
   "outputs": [
    {
     "data": {
      "text/html": [
       "<div>\n",
       "<style scoped>\n",
       "    .dataframe tbody tr th:only-of-type {\n",
       "        vertical-align: middle;\n",
       "    }\n",
       "\n",
       "    .dataframe tbody tr th {\n",
       "        vertical-align: top;\n",
       "    }\n",
       "\n",
       "    .dataframe thead th {\n",
       "        text-align: right;\n",
       "    }\n",
       "</style>\n",
       "<table border=\"1\" class=\"dataframe\">\n",
       "  <thead>\n",
       "    <tr style=\"text-align: right;\">\n",
       "      <th></th>\n",
       "      <th>road</th>\n",
       "      <th>product</th>\n",
       "      <th>shipment1</th>\n",
       "      <th>shipment2</th>\n",
       "      <th>max_load</th>\n",
       "    </tr>\n",
       "  </thead>\n",
       "  <tbody>\n",
       "    <tr>\n",
       "      <th>0</th>\n",
       "      <td>12</td>\n",
       "      <td>Product 1</td>\n",
       "      <td>1</td>\n",
       "      <td>1</td>\n",
       "      <td>20</td>\n",
       "    </tr>\n",
       "    <tr>\n",
       "      <th>1</th>\n",
       "      <td>12</td>\n",
       "      <td>Product 2</td>\n",
       "      <td>2</td>\n",
       "      <td>3</td>\n",
       "      <td>6</td>\n",
       "    </tr>\n",
       "    <tr>\n",
       "      <th>2</th>\n",
       "      <td>13</td>\n",
       "      <td>Product 1</td>\n",
       "      <td>1</td>\n",
       "      <td>1</td>\n",
       "      <td>10</td>\n",
       "    </tr>\n",
       "    <tr>\n",
       "      <th>3</th>\n",
       "      <td>13</td>\n",
       "      <td>Product 2</td>\n",
       "      <td>2</td>\n",
       "      <td>3</td>\n",
       "      <td>6</td>\n",
       "    </tr>\n",
       "    <tr>\n",
       "      <th>4</th>\n",
       "      <td>23</td>\n",
       "      <td>Product 1</td>\n",
       "      <td>1</td>\n",
       "      <td>1</td>\n",
       "      <td>40</td>\n",
       "    </tr>\n",
       "    <tr>\n",
       "      <th>5</th>\n",
       "      <td>23</td>\n",
       "      <td>Product 2</td>\n",
       "      <td>3</td>\n",
       "      <td>8</td>\n",
       "      <td>12</td>\n",
       "    </tr>\n",
       "    <tr>\n",
       "      <th>6</th>\n",
       "      <td>24</td>\n",
       "      <td>Product 1</td>\n",
       "      <td>1</td>\n",
       "      <td>1</td>\n",
       "      <td>15</td>\n",
       "    </tr>\n",
       "    <tr>\n",
       "      <th>7</th>\n",
       "      <td>24</td>\n",
       "      <td>Product 2</td>\n",
       "      <td>5</td>\n",
       "      <td>2</td>\n",
       "      <td>10</td>\n",
       "    </tr>\n",
       "    <tr>\n",
       "      <th>8</th>\n",
       "      <td>34</td>\n",
       "      <td>Product 1</td>\n",
       "      <td>1</td>\n",
       "      <td>1</td>\n",
       "      <td>5</td>\n",
       "    </tr>\n",
       "    <tr>\n",
       "      <th>9</th>\n",
       "      <td>34</td>\n",
       "      <td>Product 2</td>\n",
       "      <td>5</td>\n",
       "      <td>10</td>\n",
       "      <td>15</td>\n",
       "    </tr>\n",
       "  </tbody>\n",
       "</table>\n",
       "</div>"
      ],
      "text/plain": [
       "  road    product shipment1 shipment2 max_load\n",
       "0   12  Product 1         1         1       20\n",
       "1   12  Product 2         2         3        6\n",
       "2   13  Product 1         1         1       10\n",
       "3   13  Product 2         2         3        6\n",
       "4   23  Product 1         1         1       40\n",
       "5   23  Product 2         3         8       12\n",
       "6   24  Product 1         1         1       15\n",
       "7   24  Product 2         5         2       10\n",
       "8   34  Product 1         1         1        5\n",
       "9   34  Product 2         5        10       15"
      ]
     },
     "execution_count": 30,
     "metadata": {
      "tags": []
     },
     "output_type": "execute_result"
    }
   ],
   "source": [
    "prod_df = pd.DataFrame(columns=['road', 'product', 'shipment1', 'shipment2', 'max_load'])\n",
    "\n",
    "prod_df.loc[0] = ['12', 'Product 1', 1, 1, 20]\n",
    "prod_df.loc[1] = ['12', 'Product 2', 2, 3, 6]\n",
    "prod_df.loc[2] = ['13', 'Product 1', 1, 1, 10]\n",
    "prod_df.loc[3] = ['13', 'Product 2', 2, 3, 6]\n",
    "prod_df.loc[4] = ['23', 'Product 1', 1, 1, 40]\n",
    "prod_df.loc[5] = ['23', 'Product 2', 3, 8, 12]\n",
    "prod_df.loc[6] = ['24', 'Product 1', 1, 1, 15]\n",
    "prod_df.loc[7] = ['24', 'Product 2', 5, 2, 10]\n",
    "prod_df.loc[8] = ['34', 'Product 1', 1, 1, 5]\n",
    "prod_df.loc[9] = ['34', 'Product 2', 5, 10, 15]\n",
    "prod_df.loc[10] = ['35', 'Product 1', 1, 1, 20]\n",
    "prod_df.loc[11] = ['35', 'Product 2', 4, 2, 8]\n",
    "prod_df.loc[12] = ['45', 'Product 1', 1, 1, 5]\n",
    "prod_df.loc[13] = ['45', 'Product 2', 2, 3, 6]\n",
    "prod_df.loc[14] = ['46', 'Product 1', 1, 1, 10]\n",
    "prod_df.loc[15] = ['46', 'Product 2', 6, 3, 9]\n",
    "prod_df.loc[16] = ['56', 'Product 1', 1, 1, 5]\n",
    "prod_df.loc[17] = ['56', 'Product 2', 4, 2, 8]\n",
    "\n",
    "prod_df.head(10)"
   ]
  },
  {
   "cell_type": "code",
   "execution_count": 0,
   "metadata": {
    "colab": {},
    "colab_type": "code",
    "id": "vWHcbFa-si5k"
   },
   "outputs": [],
   "source": [
    "def min_max(l1,l2,p11,p12,p21,p22,p1_max,p2_max):\n",
    "\n",
    "  # Create a LP Minimization problem \n",
    "  Lp_prob = p.LpProblem('Problem', p.LpMaximize)  \n",
    "    \n",
    "  # Create problem Variables \n",
    "  x = p.LpVariable(\"x\", lowBound = 0, upBound = None, cat = p.LpInteger)   # Create a variable x >= 0 \n",
    "  y = p.LpVariable(\"y\", lowBound = 0, upBound = None, cat = p.LpInteger)   # Create a variable y >= 0 \n",
    "\n",
    "  # Objective Function \n",
    "  Lp_prob += l1 * x + l2 * y    \n",
    "    \n",
    "  # Constraints: \n",
    "  Lp_prob += p11 * x + p12 * y <= p1_max\n",
    "  Lp_prob += p21 * x + p22 * y <= p2_max\n",
    "        \n",
    "  status = Lp_prob.solve()   # Solver \n",
    "    \n",
    "  # Printing the final solution \n",
    "  max_cost = p.value(Lp_prob.objective)\n",
    "\n",
    "\n",
    "  # Create a LP Minimization problem \n",
    "  Lp_prob = p.LpProblem('Problem', p.LpMinimize)  \n",
    "    \n",
    "  # Create problem Variables \n",
    "  x = p.LpVariable(\"x\", lowBound = 0, upBound = None, cat = p.LpInteger)   # Create a variable x >= 0 \n",
    "  y = p.LpVariable(\"y\", lowBound = 0, upBound = None, cat = p.LpInteger)   # Create a variable y >= 0 \n",
    "\n",
    "  # Objective Function \n",
    "  Lp_prob += l1 * x + l2 * y    \n",
    "    \n",
    "  # Constraints: \n",
    "  Lp_prob += p11 * x + p12 * y <= p1_max\n",
    "  Lp_prob += p21 * x + p22 * y <= p2_max\n",
    "        \n",
    "  status = Lp_prob.solve()   # Solver \n",
    "    \n",
    "  # Printing the final solution \n",
    "  min_cost = p.value(Lp_prob.objective)\n",
    "  \n",
    "  return (min_cost, max_cost) "
   ]
  },
  {
   "cell_type": "code",
   "execution_count": 0,
   "metadata": {
    "colab": {},
    "colab_type": "code",
    "id": "uVYcJInGaDyb"
   },
   "outputs": [],
   "source": [
    "min_max_dict = dict()\n",
    "for r in logistic_costs.keys():\n",
    "  temp_df = prod_df[prod_df[\"road\"]==r]\n",
    "  l1 = logistic_costs[r][0]\n",
    "  l2 = logistic_costs[r][1]\n",
    "  p11 = temp_df['shipment1'].iloc[0]\n",
    "  p12 = temp_df['shipment2'].iloc[0]\n",
    "  p21 = temp_df['shipment1'].iloc[1]\n",
    "  p22 = temp_df['shipment2'].iloc[1]\n",
    "  p1_max = temp_df['max_load'].iloc[0]\n",
    "  p2_max = temp_df['max_load'].iloc[1]\n",
    "\n",
    "  min_max_dict[r] = list(min_max(l1,l2,p11,p12,p21,p22,p1_max,p2_max))"
   ]
  },
  {
   "cell_type": "code",
   "execution_count": 66,
   "metadata": {
    "colab": {
     "base_uri": "https://localhost:8080/",
     "height": 173
    },
    "colab_type": "code",
    "id": "FIReTTo7eJfd",
    "outputId": "c2b13964-4ccb-4d6e-8f8f-5b247442e317"
   },
   "outputs": [
    {
     "data": {
      "text/plain": [
       "{'12': [0.0, 18.0],\n",
       " '13': [0.0, 9.0],\n",
       " '23': [0.0, 8.0],\n",
       " '24': [0.0, 40.0],\n",
       " '34': [0.0, 11.0],\n",
       " '35': [0.0, 12.0],\n",
       " '45': [0.0, 12.0],\n",
       " '46': [0.0, 9.0],\n",
       " '56': [0.0, 36.0]}"
      ]
     },
     "execution_count": 66,
     "metadata": {
      "tags": []
     },
     "output_type": "execute_result"
    }
   ],
   "source": [
    "min_max_dict"
   ]
  },
  {
   "cell_type": "code",
   "execution_count": 0,
   "metadata": {
    "colab": {},
    "colab_type": "code",
    "id": "ZbIdYiNk3peC"
   },
   "outputs": [],
   "source": [
    "all_costs=list()\n",
    "\n",
    "for i in paths:\n",
    "  road_list = list()\n",
    "  for c in range(len(i)-1):\n",
    "    road = (i[c]+i[c+1]).replace(\"C\",\"\")\n",
    "    try:\n",
    "      road_list.append(min_max_dict[road])\n",
    "    except:\n",
    "      road = road[::-1]\n",
    "      road_list.append(min_max_dict[road])\n",
    "  \n",
    "  costs = list(it.product(*road_list))\n",
    "  costs = [sum(item) for item in costs]\n",
    "  all_costs += costs\n",
    "\n"
   ]
  },
  {
   "cell_type": "code",
   "execution_count": 76,
   "metadata": {
    "colab": {
     "base_uri": "https://localhost:8080/",
     "height": 35
    },
    "colab_type": "code",
    "id": "rcIfYhhs5v50",
    "outputId": "5faaac04-899b-4cb5-9a12-270db82ab3b0"
   },
   "outputs": [
    {
     "data": {
      "text/plain": [
       "536"
      ]
     },
     "execution_count": 76,
     "metadata": {
      "tags": []
     },
     "output_type": "execute_result"
    }
   ],
   "source": [
    "len(all_costs)"
   ]
  },
  {
   "cell_type": "code",
   "execution_count": 84,
   "metadata": {
    "colab": {
     "base_uri": "https://localhost:8080/",
     "height": 299
    },
    "colab_type": "code",
    "id": "D-luOJfS7W3E",
    "outputId": "e692ef0e-65c5-47c5-d635-ea2c793b8688"
   },
   "outputs": [
    {
     "data": {
      "text/plain": [
       "Text(0.5, 1.0, 'Histogram of Costs')"
      ]
     },
     "execution_count": 84,
     "metadata": {
      "tags": []
     },
     "output_type": "execute_result"
    },
    {
     "data": {
      "image/png": "[encoded data removed]",
      "text/plain": [
       "<Figure size 432x288 with 1 Axes>"
      ]
     },
     "metadata": {
      "tags": []
     },
     "output_type": "display_data"
    }
   ],
   "source": [
    "import matplotlib.pyplot as plt\n",
    "import seaborn as sns\n",
    "\n",
    "range_c = max(all_costs)-min(all_costs)  \n",
    "\n",
    "# seaborn histogram\n",
    "sns.distplot(all_costs, hist=True, kde=False, \n",
    "             bins=int(range_c/15), color = 'blue',\n",
    "             hist_kws={'edgecolor':'black'})\n",
    "# Add labels\n",
    "plt.title('Histogram of Costs')"
   ]
  },
  {
   "cell_type": "code",
   "execution_count": 82,
   "metadata": {
    "colab": {
     "base_uri": "https://localhost:8080/",
     "height": 285
    },
    "colab_type": "code",
    "id": "alEugs6h_DDh",
    "outputId": "3a65b530-0b06-4e52-b622-046afe806eb8"
   },
   "outputs": [
    {
     "data": {
      "text/plain": [
       "<matplotlib.axes._subplots.AxesSubplot at 0x7ff20be56208>"
      ]
     },
     "execution_count": 82,
     "metadata": {
      "tags": []
     },
     "output_type": "execute_result"
    },
    {
     "data": {
      "image/png": "[encoded data removed]",
      "text/plain": [
       "<Figure size 432x288 with 1 Axes>"
      ]
     },
     "metadata": {
      "tags": []
     },
     "output_type": "display_data"
    }
   ],
   "source": [
    "# Density Plot and Histogram of all arrival delays\n",
    "sns.distplot(all_costs, hist=True, kde=True, \n",
    "             bins=int(range_c/15), color = 'darkblue', \n",
    "             hist_kws={'edgecolor':'black'},\n",
    "             kde_kws={'linewidth': 4})"
   ]
  },
  {
   "cell_type": "code",
   "execution_count": 0,
   "metadata": {
    "colab": {},
    "colab_type": "code",
    "id": "koR4bFIp_zjP"
   },
   "outputs": [],
   "source": []
  }
 ],
 "metadata": {
  "colab": {
   "collapsed_sections": [],
   "name": "transportation_problem.ipynb",
   "provenance": []
  },
  "kernelspec": {
   "display_name": "Python 3",
   "language": "python",
   "name": "python3"
  },
  "language_info": {
   "codemirror_mode": {
    "name": "ipython",
    "version": 3
   },
   "file_extension": ".py",
   "mimetype": "text/x-python",
   "name": "python",
   "nbconvert_exporter": "python",
   "pygments_lexer": "ipython3",
   "version": "3.7.3"
  }
 },
 "nbformat": 4,
 "nbformat_minor": 1
}
